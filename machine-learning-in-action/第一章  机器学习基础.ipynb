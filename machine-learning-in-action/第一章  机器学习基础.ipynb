{
 "cells": [
  {
   "cell_type": "markdown",
   "metadata": {},
   "source": [
    "# 第一章  机器学习基础\n",
    "有预测表明，在本书出版后不久，20%的互联网非视频流量都将由物理传感器产生。\n",
    "\n",
    "### 关键术语\n",
    "- 特征（属性）\n",
    "- 训练集\n",
    "- 目标变量\n",
    "\n",
    "### 主要任务\n",
    "- 监督学习：分类和回归\n",
    "- 无监督学习：聚类和密度估计\n",
    "\n",
    "### NumPy函数库基础\n",
    "如下所示。"
   ]
  },
  {
   "cell_type": "code",
   "execution_count": 1,
   "metadata": {
    "collapsed": true
   },
   "outputs": [],
   "source": [
    "from numpy import *"
   ]
  },
  {
   "cell_type": "code",
   "execution_count": 2,
   "metadata": {
    "scrolled": true
   },
   "outputs": [
    {
     "data": {
      "text/plain": [
       "array([[ 0.35824755,  0.39131792,  0.80147386,  0.61826803],\n",
       "       [ 0.91718149,  0.27315736,  0.80646433,  0.51059557],\n",
       "       [ 0.19995822,  0.81452937,  0.86783193,  0.05751934],\n",
       "       [ 0.60091134,  0.36028954,  0.7314043 ,  0.14959695]])"
      ]
     },
     "execution_count": 2,
     "metadata": {},
     "output_type": "execute_result"
    }
   ],
   "source": [
    "# 随机生辰一个4*4的数组\n",
    "random.rand(4, 4);"
   ]
  },
  {
   "cell_type": "code",
   "execution_count": 3,
   "metadata": {
    "collapsed": true
   },
   "outputs": [],
   "source": [
    "# mat()函数将数组转化为矩阵\n",
    "randMat = mat(random.rand(4,4))"
   ]
  },
  {
   "cell_type": "code",
   "execution_count": 4,
   "metadata": {},
   "outputs": [
    {
     "data": {
      "text/plain": [
       "matrix([[ 0.4634963 ,  0.57172293,  0.01944711,  0.91835888],\n",
       "        [ 0.45346226,  0.15804127,  0.91528865,  0.05601048],\n",
       "        [ 0.99323281,  0.0377259 ,  0.72530548,  0.11634979],\n",
       "        [ 0.39178273,  0.79452642,  0.10549249,  0.91406826]])"
      ]
     },
     "execution_count": 4,
     "metadata": {},
     "output_type": "execute_result"
    }
   ],
   "source": [
    "randMat"
   ]
  },
  {
   "cell_type": "code",
   "execution_count": 5,
   "metadata": {
    "collapsed": true
   },
   "outputs": [],
   "source": [
    "# 矩阵求逆\n",
    "invRandMat = randMat.I"
   ]
  },
  {
   "cell_type": "code",
   "execution_count": 6,
   "metadata": {},
   "outputs": [
    {
     "data": {
      "text/plain": [
       "matrix([[  1.00000000e+00,  -2.22044605e-16,   1.11022302e-16,\n",
       "          -3.33066907e-16],\n",
       "        [  1.11022302e-16,   1.00000000e+00,  -6.93889390e-17,\n",
       "           0.00000000e+00],\n",
       "        [  0.00000000e+00,  -8.32667268e-17,   1.00000000e+00,\n",
       "           1.11022302e-16],\n",
       "        [  7.21644966e-16,   5.55111512e-17,   0.00000000e+00,\n",
       "           1.00000000e+00]])"
      ]
     },
     "execution_count": 6,
     "metadata": {},
     "output_type": "execute_result"
    }
   ],
   "source": [
    "randMat*invRandMat"
   ]
  },
  {
   "cell_type": "code",
   "execution_count": 9,
   "metadata": {
    "collapsed": true
   },
   "outputs": [],
   "source": [
    "# 有微小的误差，误差值可计算\n",
    "myEye = randMat*invRandMat"
   ]
  },
  {
   "cell_type": "code",
   "execution_count": 10,
   "metadata": {},
   "outputs": [
    {
     "data": {
      "text/plain": [
       "matrix([[  4.44089210e-16,  -2.22044605e-16,   1.11022302e-16,\n",
       "          -3.33066907e-16],\n",
       "        [  1.11022302e-16,   2.22044605e-16,  -6.93889390e-17,\n",
       "           0.00000000e+00],\n",
       "        [  0.00000000e+00,  -8.32667268e-17,   4.44089210e-16,\n",
       "           1.11022302e-16],\n",
       "        [  7.21644966e-16,   5.55111512e-17,   0.00000000e+00,\n",
       "          -5.55111512e-16]])"
      ]
     },
     "execution_count": 10,
     "metadata": {},
     "output_type": "execute_result"
    }
   ],
   "source": [
    "myEye - eye(4)"
   ]
  },
  {
   "cell_type": "code",
   "execution_count": 14,
   "metadata": {
    "scrolled": true
   },
   "outputs": [
    {
     "data": {
      "text/plain": [
       "matrix([[  1.00000000e+00,  -2.22044605e-16,   1.11022302e-16,\n",
       "          -3.33066907e-16],\n",
       "        [  1.11022302e-16,   1.00000000e+00,  -6.93889390e-17,\n",
       "           0.00000000e+00],\n",
       "        [  0.00000000e+00,  -8.32667268e-17,   1.00000000e+00,\n",
       "           1.11022302e-16],\n",
       "        [  7.21644966e-16,   5.55111512e-17,   0.00000000e+00,\n",
       "           1.00000000e+00]])"
      ]
     },
     "execution_count": 14,
     "metadata": {},
     "output_type": "execute_result"
    }
   ],
   "source": [
    "myEye"
   ]
  },
  {
   "cell_type": "markdown",
   "metadata": {},
   "source": [
    "### 算法的一般流程\n",
    "1. 收集数据\n",
    "2. 准备数据\n",
    "3. 分析数据\n",
    "4. 训练算法\n",
    "5. 测试算法\n",
    "6. 使用算法"
   ]
  }
 ],
 "metadata": {
  "kernelspec": {
   "display_name": "Python 3",
   "language": "python",
   "name": "python3"
  },
  "language_info": {
   "codemirror_mode": {
    "name": "ipython",
    "version": 3
   },
   "file_extension": ".py",
   "mimetype": "text/x-python",
   "name": "python",
   "nbconvert_exporter": "python",
   "pygments_lexer": "ipython3",
   "version": "3.6.3"
  }
 },
 "nbformat": 4,
 "nbformat_minor": 2
}
